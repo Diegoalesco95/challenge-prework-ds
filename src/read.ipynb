{
 "metadata": {
  "language_info": {
   "codemirror_mode": {
    "name": "ipython",
    "version": 3
   },
   "file_extension": ".py",
   "mimetype": "text/x-python",
   "name": "python",
   "nbconvert_exporter": "python",
   "pygments_lexer": "ipython3",
   "version": "3.7.7-final"
  },
  "orig_nbformat": 2,
  "kernelspec": {
   "name": "python_defaultSpec_1597589284150",
   "display_name": "Python 3.7.7 64-bit ('challenge-prework-ds': conda)"
  }
 },
 "nbformat": 4,
 "nbformat_minor": 2,
 "cells": [
  {
   "cell_type": "code",
   "execution_count": 4,
   "metadata": {
    "tags": []
   },
   "outputs": [
    {
     "output_type": "stream",
     "name": "stdout",
     "text": "Estado  Clave SIINAH  \\\n0      Aguascalientes     2300100.0   \n1      Aguascalientes     2300100.0   \n2      Aguascalientes     2300100.0   \n3      Aguascalientes     2300100.0   \n4      Aguascalientes     2300100.0   \n...               ...           ...   \n42674       Zacatecas     3110022.0   \n42675       Zacatecas     3110022.0   \n42676       Zacatecas     3110022.0   \n42677       Zacatecas     3110022.0   \n42678       Zacatecas     3110022.0   \n\n                                  Centro de trabajo   Año  Mes  \\\n0      Museo Regional de Historia de Aguascalientes  2019    1   \n1      Museo Regional de Historia de Aguascalientes  2019    1   \n2      Museo Regional de Historia de Aguascalientes  2019    1   \n3      Museo Regional de Historia de Aguascalientes  2019    1   \n4      Museo Regional de Historia de Aguascalientes  2019    1   \n...                                             ...   ...  ...   \n42674         Z.A. de La Quemada con museo de sitio  2019   12   \n42675         Z.A. de La Quemada con museo de sitio  2019   12   \n42676         Z.A. de La Quemada con museo de sitio  2019   12   \n42677         Z.A. de La Quemada con museo de sitio  2019   12   \n42678         Z.A. de La Quemada con museo de sitio  2019   12   \n\n                                Tipo de visitantes Número de visitas  \\\n0                         Estudiantes nivel básico               527   \n1                                Entrada dominical               617   \n2                                    Boleto pagado                19   \n3                       Estudiantes nivel superior               188   \n4                                    Boleto pagado                80   \n...                                            ...               ...   \n42674  Exposiciones temporales con costo adicional                 0   \n42675                            Trabajadores INAH                 0   \n42676        Tercera edad, pensionados y jubilados               311   \n42677  Exposiciones temporales con costo adicional                 0   \n42678                            Entrada sin costo                 0   \n\n      Nacionalidad  \n0         Nacional  \n1         Nacional  \n2      Extranjeros  \n3         Nacional  \n4         Nacional  \n...            ...  \n42674  Extranjeros  \n42675     Nacional  \n42676     Nacional  \n42677     Nacional  \n42678  Extranjeros  \n\n[42679 rows x 8 columns]\n"
    }
   ],
   "source": [
    "import pandas as pd\n",
    "import numpy as np\n",
    "\n",
    "#   Read the document\n",
    "data = pd.read_csv('INAH_detallado_2019.csv', encoding='latin-1')\n",
    "print(data)\n",
    "\n",
    "data_frame = pd.DataFrame(data, columns = ['Estado', 'Clave SIINAH', 'Centro de trabajo', 'Año', 'Mes', 'Tipo de visitantes', 'Número de visitas', 'Nacionalidad'])\n",
    "\n",
    "print(data_frame) "
   ]
  }
 ]
}